{
 "cells": [
  {
   "cell_type": "code",
   "execution_count": null,
   "id": "e4eef068-371c-46cb-b000-1e016eedb7b9",
   "metadata": {},
   "outputs": [],
   "source": [
    "import pandas as pd\n",
    "import numpy as np\n",
    "import matplotlib.pyplot as plt\n",
    "import seaborn as sns\n",
    "import warnings\n",
    "import missingno as msno  \n",
    "from scipy.stats import chi2_contingency, shapiro\n",
    "from sklearn.model_selection import train_test_split\n",
    "from sklearn.ensemble import GradientBoostingClassifier\n",
    "from sklearn.preprocessing import StandardScaler\n",
    "from sklearn.pipeline import Pipeline\n",
    "from sklearn.metrics import accuracy_score, classification_report, confusion_matrix, roc_curve, auc\n",
    "import joblib  \n",
    "import tensorflow as tf\n",
    "from tensorflow.keras.models import Sequential\n",
    "from tensorflow.keras.layers import Dense, Dropout\n",
    "\n",
    "warnings.filterwarnings(\"ignore\")\n"
   ]
  },
  {
   "cell_type": "code",
   "execution_count": null,
   "id": "412776e2-1f25-4685-9af0-466c2bcfe4ad",
   "metadata": {},
   "outputs": [],
   "source": [
    "df = pd.read_csv(\"lung_cancer_data.csv\")\n",
    "df.head()"
   ]
  },
  {
   "cell_type": "code",
   "execution_count": null,
   "id": "a7d5ff1c-151e-482d-be27-3971e432fb03",
   "metadata": {},
   "outputs": [],
   "source": [
    "# Display dataset information\n",
    "df.info()\n",
    "\n",
    "# Check for missing values\n",
    "print(\"Missing Values in Each Column:\")\n",
    "print(df.isnull().sum())\n",
    "\n",
    "# Visualize missing values\n",
    "msno.matrix(df)\n",
    "plt.title(\"Missing Values Visualization\")\n",
    "plt.show()\n",
    "\n",
    "# Handle missing values using median imputation\n",
    "df_cleaned = df.fillna(df.median())\n",
    "\n",
    "print(\"Data cleaning completed successfully!\")\n"
   ]
  },
  {
   "cell_type": "code",
   "execution_count": null,
   "id": "c5109b45-29a6-418b-86ae-a6fd8426f8e5",
   "metadata": {},
   "outputs": [],
   "source": [
    "# Apply one-hot encoding for categorical features\n",
    "categorical_cols = [\"Gender\", \"Smoking History\", \"Ethnicity\"]\n",
    "df_cleaned = pd.get_dummies(df_cleaned, columns=categorical_cols, drop_first=True)\n",
    "\n",
    "print(\"Categorical variables encoded successfully!\")\n"
   ]
  },
  {
   "cell_type": "code",
   "execution_count": null,
   "id": "14ec6559-d618-4b95-8757-1f63329fbb24",
   "metadata": {},
   "outputs": [],
   "source": [
    "# Display summary statistics for numerical columns\n",
    "df_cleaned.describe()\n"
   ]
  },
  {
   "cell_type": "code",
   "execution_count": null,
   "id": "4a509b95-94f8-4a81-ba95-dcfdd58a7197",
   "metadata": {},
   "outputs": [],
   "source": [
    "# Gender distribution\n",
    "sns.countplot(data=df, x=\"Gender\", palette=\"coolwarm\")\n",
    "plt.title(\"Gender Distribution\")\n",
    "plt.show()\n",
    "\n",
    "# Age distribution\n",
    "plt.hist(df[\"Age\"], bins=20, color='skyblue', edgecolor='black')\n",
    "plt.title(\"Age Distribution\")\n",
    "plt.xlabel(\"Age\")\n",
    "plt.ylabel(\"Frequency\")\n",
    "plt.show()"
   ]
  },
  {
   "cell_type": "code",
   "execution_count": null,
   "id": "18756086-a2c2-4abb-8334-278ecd2d8283",
   "metadata": {},
   "outputs": [],
   "source": [
    "# Heatmap of medical features\n",
    "plt.figure(figsize=(10,8))\n",
    "sns.heatmap(df_cleaned.corr(), annot=True, cmap=\"coolwarm\", fmt=\".2f\")\n",
    "plt.title(\"Feature Correlation Matrix\")\n",
    "plt.show()\n"
   ]
  },
  {
   "cell_type": "code",
   "execution_count": null,
   "id": "6e6d5827-8a4e-4ef8-8c58-17c13bfe62ce",
   "metadata": {},
   "outputs": [],
   "source": [
    "# Chi-Square test for categorical variables\n",
    "def chi_square_test(col1, col2):\n",
    "    contingency_table = pd.crosstab(df_cleaned[col1], df_cleaned[col2])\n",
    "    chi2, p, dof, expected = chi2_contingency(contingency_table)\n",
    "    return f\"Chi-Square Test between {col1} and {col2}: p-value = {p}\"\n",
    "\n",
    "# Normality Test\n",
    "def normality_test(column):\n",
    "    stat, p = shapiro(df_cleaned[column])\n",
    "    return f\"Shapiro-Wilk Test for {column}: p-value = {p}\"\n",
    "\n",
    "print(chi_square_test(\"Smoking History_Yes\", \"Lung Cancer\"))\n",
    "print(normality_test(\"Age\"))"
   ]
  },
  {
   "cell_type": "code",
   "execution_count": null,
   "id": "c3698fd3-0a3c-488f-9ff2-d5300e749ec2",
   "metadata": {},
   "outputs": [],
   "source": [
    "def get_patient_details(patient_id):\n",
    "    patient = df_cleaned[df_cleaned[\"Patient ID\"] == patient_id]\n",
    "    return patient if not patient.empty else \"Patient ID not found.\"\n",
    "\n",
    "# User input\n",
    "target_id = int(input(\"Enter Patient ID: \"))\n",
    "print(get_patient_details(target_id))"
   ]
  },
  {
   "cell_type": "code",
   "execution_count": null,
   "id": "16c11f8d-88f3-4d06-ad8a-db8721b2e366",
   "metadata": {},
   "outputs": [],
   "source": [
    "features = [\"Age\", \"Diabetes\", \"Kidney Disease\", \"Haemoglobin Level\"] + list(df_cleaned.columns[df_cleaned.columns.str.startswith(\"Smoking History\")])\n",
    "X = df_cleaned[features]\n",
    "y = df_cleaned[\"Lung Cancer\"]\n",
    "\n",
    "X_train, X_test, y_train, y_test = train_test_split(X, y, test_size=0.2, random_state=42)\n",
    "\n",
    "pipeline = Pipeline([\n",
    "    ('scaler', StandardScaler()),\n",
    "    ('classifier', GradientBoostingClassifier(n_estimators=100, random_state=42))\n",
    "])\n",
    "\n",
    "pipeline.fit(X_train, y_train)\n",
    "\n",
    "y_pred = pipeline.predict(X_test)\n",
    "\n",
    "print(\"Accuracy:\", accuracy_score(y_test, y_pred))\n",
    "print(\"Classification Report:\")\n",
    "print(classification_report(y_test, y_pred))\n",
    "print(\"Confusion Matrix:\")\n",
    "print(confusion_matrix(y_test, y_pred))"
   ]
  },
  {
   "cell_type": "code",
   "execution_count": null,
   "id": "ef403d89-0422-44b3-a576-a0af5084000e",
   "metadata": {},
   "outputs": [],
   "source": [
    "model = Sequential([\n",
    "    Dense(32, activation='relu', input_shape=(X_train.shape[1],)),\n",
    "    Dropout(0.2),\n",
    "    Dense(16, activation='relu'),\n",
    "    Dropout(0.2),\n",
    "    Dense(1, activation='sigmoid')\n",
    "])\n",
    "\n",
    "model.compile(optimizer='adam', loss='binary_crossentropy', metrics=['accuracy'])\n",
    "model.fit(X_train, y_train, epochs=20, batch_size=32, validation_data=(X_test, y_test))\n"
   ]
  },
  {
   "cell_type": "code",
   "execution_count": null,
   "id": "1e87b6d8-860b-4265-b7ac-70a4ea9279c5",
   "metadata": {},
   "outputs": [],
   "source": [
    "# Save the trained model\n",
    "joblib.dump(pipeline, \"lung_cancer_model.pkl\")\n",
    "print(\"Model saved successfully!\")\n",
    "\n",
    "# Load the saved model\n",
    "loaded_model = joblib.load(\"lung_cancer_model.pkl\")\n",
    "\n",
    "# Make predictions using the loaded model\n",
    "y_pred_loaded = loaded_model.predict(X_test)\n",
    "\n",
    "# Evaluate the loaded model\n",
    "print(\"Loaded Model Accuracy:\", accuracy_score(y_test, y_pred_loaded))\n"
   ]
  },
  {
   "cell_type": "code",
   "execution_count": null,
   "id": "ec6040da-e7cd-4372-962c-40ce8be55e14",
   "metadata": {},
   "outputs": [],
   "source": [
    "y_pred_proba = pipeline.predict_proba(X_test)[:, 1]\n",
    "fpr, tpr, _ = roc_curve(y_test, y_pred_proba)\n",
    "roc_auc = auc(fpr, tpr)\n",
    "\n",
    "plt.figure(figsize=(8,6))\n",
    "plt.plot(fpr, tpr, color='blue', label=f'Gradient Boosting (AUC = {roc_auc:.2f})')\n",
    "plt.plot([0,1], [0,1], linestyle='--', color='gray')\n",
    "plt.xlabel(\"False Positive Rate\")\n",
    "plt.ylabel(\"True Positive Rate\")\n",
    "plt.title(\"ROC Curve\")\n",
    "plt.legend()\n",
    "plt.show()\n"
   ]
  },
  {
   "cell_type": "code",
   "execution_count": 3,
   "id": "04f0bc2b-cb5a-42b6-9fad-d4cdcd1c0dfb",
   "metadata": {},
   "outputs": [
    {
     "ename": "NameError",
     "evalue": "name 'df_cleaned' is not defined",
     "output_type": "error",
     "traceback": [
      "\u001b[1;31m---------------------------------------------------------------------------\u001b[0m",
      "\u001b[1;31mNameError\u001b[0m                                 Traceback (most recent call last)",
      "Cell \u001b[1;32mIn[3], line 1\u001b[0m\n\u001b[1;32m----> 1\u001b[0m df_cleaned\u001b[38;5;241m.\u001b[39mto_csv(\u001b[38;5;124m\"\u001b[39m\u001b[38;5;124mcleaned_lung_cancer_data.csv\u001b[39m\u001b[38;5;124m\"\u001b[39m, index\u001b[38;5;241m=\u001b[39m\u001b[38;5;28;01mFalse\u001b[39;00m)\n\u001b[0;32m      2\u001b[0m \u001b[38;5;28mprint\u001b[39m(\u001b[38;5;124m\"\u001b[39m\u001b[38;5;124mCleaned data saved successfully!\u001b[39m\u001b[38;5;124m\"\u001b[39m)\n",
      "\u001b[1;31mNameError\u001b[0m: name 'df_cleaned' is not defined"
     ]
    }
   ],
   "source": [
    "df_cleaned.to_csv(\"cleaned_lung_cancer_data.csv\", index=False)\n",
    "print(\"Cleaned data saved successfully!\")\n"
   ]
  },
  {
   "cell_type": "code",
   "execution_count": null,
   "id": "bfefd4e8-58d0-4dba-8653-2e8714b40bb8",
   "metadata": {},
   "outputs": [],
   "source": []
  }
 ],
 "metadata": {
  "kernelspec": {
   "display_name": "Python 3 (ipykernel)",
   "language": "python",
   "name": "python3"
  },
  "language_info": {
   "codemirror_mode": {
    "name": "ipython",
    "version": 3
   },
   "file_extension": ".py",
   "mimetype": "text/x-python",
   "name": "python",
   "nbconvert_exporter": "python",
   "pygments_lexer": "ipython3",
   "version": "3.12.4"
  }
 },
 "nbformat": 4,
 "nbformat_minor": 5
}
